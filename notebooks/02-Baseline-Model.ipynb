{
 "cells": [
  {
   "cell_type": "code",
   "execution_count": 2,
   "id": "135ec41b",
   "metadata": {},
   "outputs": [],
   "source": [
    "import sys\n",
    "import os\n",
    "\n",
    "# Esto busca la ruta a la carpeta raíz del proyecto (LatentLens)\n",
    "# y la añade al \"mapa\" de Python temporalmente.\n",
    "project_root = os.path.abspath(os.path.join(os.getcwd(), '..'))\n",
    "if project_root not in sys.path:\n",
    "    sys.path.insert(0, project_root)"
   ]
  },
  {
   "cell_type": "code",
   "execution_count": 3,
   "id": "a2ae0a44",
   "metadata": {},
   "outputs": [
    {
     "name": "stdout",
     "output_type": "stream",
     "text": [
      "Cargando los datasets...\n",
      "Datos de películas cargados: 62423 filas.\n",
      "Datos de calificaciones cargados: 25000095 filas.\n",
      "Preprocesamiento completado. DataFrame final listo.\n"
     ]
    }
   ],
   "source": [
    "# Importamos nuestra función mágica\n",
    "from src.data_loader import load_and_prepare_data\n",
    "\n",
    "# Obtenemos nuestros datos limpios con una sola línea\n",
    "main_df = load_and_prepare_data()"
   ]
  },
  {
   "cell_type": "code",
   "execution_count": 4,
   "id": "38d9ec81",
   "metadata": {},
   "outputs": [
    {
     "name": "stdout",
     "output_type": "stream",
     "text": [
      "Estadísticas por película:\n"
     ]
    },
    {
     "data": {
      "text/html": [
       "<div>\n",
       "<style scoped>\n",
       "    .dataframe tbody tr th:only-of-type {\n",
       "        vertical-align: middle;\n",
       "    }\n",
       "\n",
       "    .dataframe tbody tr th {\n",
       "        vertical-align: top;\n",
       "    }\n",
       "\n",
       "    .dataframe thead th {\n",
       "        text-align: right;\n",
       "    }\n",
       "</style>\n",
       "<table border=\"1\" class=\"dataframe\">\n",
       "  <thead>\n",
       "    <tr style=\"text-align: right;\">\n",
       "      <th></th>\n",
       "      <th>title</th>\n",
       "      <th>num_ratings</th>\n",
       "      <th>mean_rating</th>\n",
       "    </tr>\n",
       "  </thead>\n",
       "  <tbody>\n",
       "    <tr>\n",
       "      <th>0</th>\n",
       "      <td>\"BLOW THE NIGHT!\" Let's Spend the Night Togeth...</td>\n",
       "      <td>1</td>\n",
       "      <td>3.000000</td>\n",
       "    </tr>\n",
       "    <tr>\n",
       "      <th>1</th>\n",
       "      <td>\"Great Performances\" Cats (1998)</td>\n",
       "      <td>179</td>\n",
       "      <td>2.896648</td>\n",
       "    </tr>\n",
       "    <tr>\n",
       "      <th>2</th>\n",
       "      <td>#1 Cheerleader Camp (2010)</td>\n",
       "      <td>9</td>\n",
       "      <td>2.111111</td>\n",
       "    </tr>\n",
       "    <tr>\n",
       "      <th>3</th>\n",
       "      <td>#Captured (2017)</td>\n",
       "      <td>2</td>\n",
       "      <td>3.750000</td>\n",
       "    </tr>\n",
       "    <tr>\n",
       "      <th>4</th>\n",
       "      <td>#Female Pleasure (2018)</td>\n",
       "      <td>3</td>\n",
       "      <td>3.666667</td>\n",
       "    </tr>\n",
       "  </tbody>\n",
       "</table>\n",
       "</div>"
      ],
      "text/plain": [
       "                                               title  num_ratings  mean_rating\n",
       "0  \"BLOW THE NIGHT!\" Let's Spend the Night Togeth...            1     3.000000\n",
       "1                   \"Great Performances\" Cats (1998)          179     2.896648\n",
       "2                         #1 Cheerleader Camp (2010)            9     2.111111\n",
       "3                                   #Captured (2017)            2     3.750000\n",
       "4                            #Female Pleasure (2018)            3     3.666667"
      ]
     },
     "execution_count": 4,
     "metadata": {},
     "output_type": "execute_result"
    }
   ],
   "source": [
    "# Usamos groupby() para agrupar por película y agg() para calcular múltiples cosas a la vez\n",
    "movie_stats = main_df.groupby('title').agg(\n",
    "    num_ratings=('rating', 'count'),\n",
    "    mean_rating=('rating', 'mean')\n",
    ").reset_index()\n",
    "\n",
    "print(\"Estadísticas por película:\")\n",
    "movie_stats.head()"
   ]
  },
  {
   "cell_type": "code",
   "execution_count": null,
   "id": "ecc5a014",
   "metadata": {},
   "outputs": [
    {
     "name": "stdout",
     "output_type": "stream",
     "text": [
      "\n",
      "\n",
      "--- TOP 10 RECOMENDACIONES (MODELO BASELINE DE POPULARIDAD) ---\n",
      "                                             title  num_ratings  mean_rating\n",
      "36804                       Planet Earth II (2016)         1124     4.483096\n",
      "36803                          Planet Earth (2006)         1747     4.464797\n",
      "41782             Shawshank Redemption, The (1994)        81482     4.413576\n",
      "4934                       Band of Brothers (2001)         1356     4.398599\n",
      "19301                        Godfather, The (1972)        52498     4.324336\n",
      "55289                   Usual Suspects, The (1995)        55366     4.284353\n",
      "19302               Godfather: Part II, The (1974)        34188     4.261759\n",
      "41448  Seven Samurai (Shichinin no samurai) (1954)        13367     4.254769\n",
      "40816                      Schindler's List (1993)        60411     4.247579\n",
      "182                            12 Angry Men (1957)        16569     4.243014\n"
     ]
    }
   ],
   "source": [
    "def get_popular_recommendations(stats_df, min_ratings_threshold=1000):\n",
    "    \"\"\"\n",
    "    Devuelve las películas más populares basadas en la calificación media,\n",
    "    filtrando aquellas con un número mínimo de votos.\n",
    "    \"\"\"\n",
    "    # Filtramos para quedarnos solo con las películas \"calificadas\"\n",
    "    qualified_movies = stats_df[stats_df['num_ratings'] >= min_ratings_threshold]\n",
    "    \n",
    "    # Ordenamos por la calificación media de forma descendente\n",
    "    popular_movies = qualified_movies.sort_values(by='mean_rating', ascending=False)\n",
    "    \n",
    "    return popular_movies\n",
    "\n",
    "# probar el nuevo modelo baseline\n",
    "top_recommendations = get_popular_recommendations(movie_stats)\n",
    "\n",
    "print(\"\\n\\n--- TOP 10 RECOMENDACIONES (MODELO BASELINE DE POPULARIDAD) ---\")\n",
    "print(top_recommendations.head(10))"
   ]
  }
 ],
 "metadata": {
  "kernelspec": {
   "display_name": "venv (3.12.10)",
   "language": "python",
   "name": "python3"
  },
  "language_info": {
   "codemirror_mode": {
    "name": "ipython",
    "version": 3
   },
   "file_extension": ".py",
   "mimetype": "text/x-python",
   "name": "python",
   "nbconvert_exporter": "python",
   "pygments_lexer": "ipython3",
   "version": "3.12.10"
  }
 },
 "nbformat": 4,
 "nbformat_minor": 5
}
