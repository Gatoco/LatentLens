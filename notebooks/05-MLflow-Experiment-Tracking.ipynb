{
 "cells": [
  {
   "cell_type": "code",
   "execution_count": null,
   "id": "d07003fd",
   "metadata": {},
   "outputs": [
    {
     "name": "stdout",
     "output_type": "stream",
     "text": [
      "--- Fase de Preparación ---\n",
      "Numpy version: 1.26.4\n",
      "Surprise version: 1.1.4\n",
      "Raíz del proyecto detectada en: c:\\Users\\Gat\\Documents\\GitHub\\LatentLens\n",
      "MLflow configurado para comunicarse con el servidor en: http://localhost:5000\n",
      "MLflow configurado para guardar en: http://localhost:5000\n"
     ]
    }
   ],
   "source": [
    "# ===================================================================\n",
    "# CELDA 1: PREPARACIÓN DE DATOS (MISE EN PLACE)\n",
    "# ===================================================================\n",
    "\n",
    "# --- Dependencias principales ---\n",
    "import numpy\n",
    "import surprise\n",
    "import pandas as pd\n",
    "from surprise import Reader, Dataset, SVD\n",
    "from surprise.model_selection import train_test_split\n",
    "from surprise import accuracy\n",
    "import os\n",
    "import mlflow\n",
    "import mlflow.sklearn\n",
    "from pathlib import Path\n",
    "\n",
    "# --- Información de entorno ---\n",
    "print(\"--- Fase de Preparación ---\")\n",
    "print(f\"Numpy version: {numpy.__version__}\")\n",
    "print(f\"Surprise version: {surprise.__version__}\")\n",
    "\n",
    "# --- Resolución de la raíz del proyecto ---\n",
    "try:\n",
    "    BASE_DIR = os.path.dirname(os.path.dirname(os.path.abspath(__file__)))\n",
    "except NameError:\n",
    "    if \"notebooks\" in os.getcwd():\n",
    "        BASE_DIR = os.path.abspath(os.path.join(os.getcwd(), '..'))\n",
    "    else:\n",
    "        BASE_DIR = os.getcwd()\n",
    "print(f\"Raíz del proyecto detectada en: {BASE_DIR}\")\n",
    "\n",
    "# --- Configuración universal de MLflow ---\n",
    "tracking_uri = \"http://localhost:5000\"\n",
    "mlflow.set_tracking_uri(tracking_uri)\n",
    "print(f\"MLflow client configured to communicate with server at: {tracking_uri}\")\n",
    "mlflow.set_experiment(\"LatentLens-SVD-Evaluation\")\n",
    "\n",
    "# --- Carga y muestreo de datos MovieLens ---\n",
    "print(\"Cargando y procesando datos... (Esto puede tardar un poco)\")\n",
    "ratings_path = Path(BASE_DIR) / 'data' / 'ml-25m' / 'ratings.csv'\n",
    "ratings_df = pd.read_csv(ratings_path)\n",
    "\n",
    "n_users = 40000\n",
    "n_movies = 20000\n",
    "user_ids = ratings_df['userId'].value_counts().nlargest(n_users).index\n",
    "movie_ids = ratings_df['movieId'].value_counts().nlargest(n_movies).index\n",
    "sampled_df = ratings_df[(ratings_df['userId'].isin(user_ids)) & (ratings_df['movieId'].isin(movie_ids))]\n",
    "\n",
    "# --- Conversión a formato Surprise y división ---\n",
    "reader = Reader(rating_scale=(0.5, 5.0))\n",
    "data = Dataset.load_from_df(sampled_df[['userId', 'movieId', 'rating']], reader)\n",
    "trainset, testset = train_test_split(data, test_size=0.2, random_state=42)\n",
    "\n",
    "print(\"\\n¡Mise en Place completado! Las variables 'trainset' y 'testset' están listas en memoria.\")"
   ]
  },
  {
   "cell_type": "code",
   "execution_count": null,
   "id": "e2dac53f",
   "metadata": {},
   "outputs": [
    {
     "name": "stdout",
     "output_type": "stream",
     "text": [
      "--- Iniciando experimento: 'SVD_PRODUCTION_READY_FINAL_V2' ---\n",
      "RMSE: 0.7433\n"
     ]
    },
    {
     "name": "stderr",
     "output_type": "stream",
     "text": [
      "2025/08/12 13:34:54 INFO mlflow.pyfunc: Validating input example against model signature\n"
     ]
    },
    {
     "name": "stdout",
     "output_type": "stream",
     "text": [
      "Modelo SVD (artefacto) y métricas registradas con firma de producción final.\n",
      "\n",
      "¡Experimento 'SVD_PRODUCTION_READY_FINAL_V2' finalizado!\n"
     ]
    },
    {
     "ename": "",
     "evalue": "",
     "output_type": "error",
     "traceback": [
      "\u001b[1;31mThe Kernel crashed while executing code in the current cell or a previous cell. \n",
      "\u001b[1;31mPlease review the code in the cell(s) to identify a possible cause of the failure. \n",
      "\u001b[1;31mClick <a href='https://aka.ms/vscodeJupyterKernelCrash'>here</a> for more info. \n",
      "\u001b[1;31mView Jupyter <a href='command:jupyter.viewOutput'>log</a> for further details."
     ]
    }
   ],
   "source": [
    "# ===================================================================\n",
    "# CELDA 2: EXPERIMENTO Y ENTRENAMIENTO (VERSIÓN FINAL DE VERDAD)\n",
    "# ===================================================================\n",
    "import pickle\n",
    "from mlflow.models.signature import ModelSignature\n",
    "from mlflow.types.schema import Schema, ColSpec\n",
    "import pandas as pd\n",
    "import numpy as np # Importamos numpy para el control de tipos\n",
    "\n",
    "class SurpriseWrapper(mlflow.pyfunc.PythonModel):\n",
    "    def load_context(self, context):\n",
    "        with open(context.artifacts[\"surprise_model_path\"], 'rb') as f:\n",
    "            self.model = pickle.load(f)\n",
    "\n",
    "    def predict(self, context, model_input: pd.DataFrame) -> pd.Series:\n",
    "        users = model_input[\"userId\"]\n",
    "        items = model_input[\"movieId\"]\n",
    "        predictions = [self.model.predict(uid=user, iid=item).est for user, item in zip(users, items)]\n",
    "        return pd.Series(predictions)\n",
    "\n",
    "run_name = \"SVD_PRODUCTION_READY_FINAL_V2\"\n",
    "print(f\"--- Iniciando experimento: '{run_name}' ---\")\n",
    "\n",
    "with mlflow.start_run(run_name=run_name) as run:\n",
    "    # ... (parámetros y entrenamiento sin cambios) ...\n",
    "    n_factors = 150\n",
    "    n_epochs = 20\n",
    "    mlflow.log_param(\"model_type\", \"SVD\")\n",
    "    mlflow.log_param(\"n_factors\", n_factors)\n",
    "    mlflow.log_param(\"n_epochs\", n_epochs)\n",
    "    \n",
    "    model = SVD(n_factors=n_factors, n_epochs=n_epochs, random_state=42)\n",
    "    model.fit(trainset)\n",
    "    \n",
    "    predictions = model.test(testset)\n",
    "    rmse = accuracy.rmse(predictions)\n",
    "    mlflow.log_metric(\"rmse\", rmse)\n",
    "    \n",
    "    # El Blueprint explícito y perfecto.\n",
    "    input_schema = Schema([\n",
    "        ColSpec(\"integer\", \"userId\"),\n",
    "        ColSpec(\"integer\", \"movieId\"),\n",
    "    ])\n",
    "    output_schema = Schema([ColSpec(\"double\")])\n",
    "    signature = ModelSignature(inputs=input_schema, outputs=output_schema)\n",
    "    \n",
    "    # ¡¡¡LA CORRECCIÓN DEFINITIVA ESTÁ AQUÍ!!!\n",
    "    # Le decimos a Pandas que cree las columnas con el tipo de dato\n",
    "    # de numpy `np.int32`, que es el que MLflow espera para un `integer`.\n",
    "    input_example = pd.DataFrame({\n",
    "        \"userId\": pd.Series([1], dtype=np.int32),\n",
    "        \"movieId\": pd.Series([10], dtype=np.int32)\n",
    "    })\n",
    "    \n",
    "    model_path = \"svd_model.pkl\"\n",
    "    with open(model_path, 'wb') as f:\n",
    "        pickle.dump(model, f)\n",
    "        \n",
    "    mlflow.pyfunc.log_model(\n",
    "    # La Llave Maestra: Usamos el nombre de argumento moderno y correcto.\n",
    "    name=\"surprise_svd_model\",\n",
    "\n",
    "    # El Manual de Instrucciones: Le damos nuestro Wrapper personalizado.\n",
    "    python_model=SurpriseWrapper(),\n",
    "\n",
    "    # La Caja de Herramientas: Le decimos qué archivos necesita el Wrapper.\n",
    "    artifacts={\"surprise_model_path\": model_path},\n",
    "\n",
    "    # El Ejemplo Perfecto: Un ejemplo de entrada con los tipos de datos EXACTOS.\n",
    "    input_example=input_example,\n",
    "\n",
    "    # El Contrato Inmutable: El blueprint explícito que evita toda ambigüedad.\n",
    "    signature=signature)\n",
    "    print(\"Modelo SVD (artefacto) y métricas registradas con firma de producción final.\")\n",
    "\n",
    "print(f\"\\n¡Experimento '{run_name}' finalizado!\")"
   ]
  }
 ],
 "metadata": {
  "kernelspec": {
   "display_name": "venv (3.10.0)",
   "language": "python",
   "name": "python3"
  },
  "language_info": {
   "codemirror_mode": {
    "name": "ipython",
    "version": 3
   },
   "file_extension": ".py",
   "mimetype": "text/x-python",
   "name": "python",
   "nbconvert_exporter": "python",
   "pygments_lexer": "ipython3",
   "version": "3.10.0"
  }
 },
 "nbformat": 4,
 "nbformat_minor": 5
}
