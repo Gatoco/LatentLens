{
 "cells": [
  {
   "cell_type": "code",
   "execution_count": null,
   "id": "d07003fd",
   "metadata": {},
   "outputs": [
    {
     "name": "stdout",
     "output_type": "stream",
     "text": [
      "1.26.4\n",
      "1.1.4\n",
      "Librerías listas, incluyendo MLflow.\n"
     ]
    },
    {
     "name": "stderr",
     "output_type": "stream",
     "text": [
      "2025/08/07 17:01:04 INFO mlflow.tracking.fluent: Experiment with name 'LatentLens-KNN-Evaluation' does not exist. Creating a new experiment.\n"
     ]
    },
    {
     "name": "stdout",
     "output_type": "stream",
     "text": [
      "MLflow Run ID: cad377c367094d5883d732d70a77fe2e\n",
      "Computing the cosine similarity matrix...\n"
     ]
    },
    {
     "ename": "MemoryError",
     "evalue": "Unable to allocate 2.98 GiB for an array with shape (20000, 20000) and data type float64",
     "output_type": "error",
     "traceback": [
      "\u001b[1;31m---------------------------------------------------------------------------\u001b[0m",
      "\u001b[1;31mMemoryError\u001b[0m                               Traceback (most recent call last)",
      "Cell \u001b[1;32mIn[1], line 58\u001b[0m\n\u001b[0;32m     56\u001b[0m sim_options \u001b[38;5;241m=\u001b[39m {\u001b[38;5;124m'\u001b[39m\u001b[38;5;124mname\u001b[39m\u001b[38;5;124m'\u001b[39m: similarity_metric, \u001b[38;5;124m'\u001b[39m\u001b[38;5;124muser_based\u001b[39m\u001b[38;5;124m'\u001b[39m: \u001b[38;5;28;01mFalse\u001b[39;00m}\n\u001b[0;32m     57\u001b[0m model \u001b[38;5;241m=\u001b[39m KNNBasic(k\u001b[38;5;241m=\u001b[39mk_neighbors, sim_options\u001b[38;5;241m=\u001b[39msim_options)\n\u001b[1;32m---> 58\u001b[0m \u001b[43mmodel\u001b[49m\u001b[38;5;241;43m.\u001b[39;49m\u001b[43mfit\u001b[49m\u001b[43m(\u001b[49m\u001b[43mtrainset\u001b[49m\u001b[43m)\u001b[49m\n\u001b[0;32m     60\u001b[0m \u001b[38;5;66;03m# --- Evaluación ---\u001b[39;00m\n\u001b[0;32m     61\u001b[0m predictions \u001b[38;5;241m=\u001b[39m model\u001b[38;5;241m.\u001b[39mtest(testset)\n",
      "File \u001b[1;32mc:\\Users\\Gat\\Documents\\GitHub\\LatentLens\\venv\\lib\\site-packages\\surprise\\prediction_algorithms\\knns.py:98\u001b[0m, in \u001b[0;36mKNNBasic.fit\u001b[1;34m(self, trainset)\u001b[0m\n\u001b[0;32m     95\u001b[0m \u001b[38;5;28;01mdef\u001b[39;00m\u001b[38;5;250m \u001b[39m\u001b[38;5;21mfit\u001b[39m(\u001b[38;5;28mself\u001b[39m, trainset):\n\u001b[0;32m     97\u001b[0m     SymmetricAlgo\u001b[38;5;241m.\u001b[39mfit(\u001b[38;5;28mself\u001b[39m, trainset)\n\u001b[1;32m---> 98\u001b[0m     \u001b[38;5;28mself\u001b[39m\u001b[38;5;241m.\u001b[39msim \u001b[38;5;241m=\u001b[39m \u001b[38;5;28;43mself\u001b[39;49m\u001b[38;5;241;43m.\u001b[39;49m\u001b[43mcompute_similarities\u001b[49m\u001b[43m(\u001b[49m\u001b[43m)\u001b[49m\n\u001b[0;32m    100\u001b[0m     \u001b[38;5;28;01mreturn\u001b[39;00m \u001b[38;5;28mself\u001b[39m\n",
      "File \u001b[1;32mc:\\Users\\Gat\\Documents\\GitHub\\LatentLens\\venv\\lib\\site-packages\\surprise\\prediction_algorithms\\algo_base.py:248\u001b[0m, in \u001b[0;36mAlgoBase.compute_similarities\u001b[1;34m(self)\u001b[0m\n\u001b[0;32m    246\u001b[0m \u001b[38;5;28;01mif\u001b[39;00m \u001b[38;5;28mgetattr\u001b[39m(\u001b[38;5;28mself\u001b[39m, \u001b[38;5;124m\"\u001b[39m\u001b[38;5;124mverbose\u001b[39m\u001b[38;5;124m\"\u001b[39m, \u001b[38;5;28;01mFalse\u001b[39;00m):\n\u001b[0;32m    247\u001b[0m     \u001b[38;5;28mprint\u001b[39m(\u001b[38;5;124mf\u001b[39m\u001b[38;5;124m\"\u001b[39m\u001b[38;5;124mComputing the \u001b[39m\u001b[38;5;132;01m{\u001b[39;00mname\u001b[38;5;132;01m}\u001b[39;00m\u001b[38;5;124m similarity matrix...\u001b[39m\u001b[38;5;124m\"\u001b[39m)\n\u001b[1;32m--> 248\u001b[0m sim \u001b[38;5;241m=\u001b[39m \u001b[43mconstruction_func\u001b[49m\u001b[43m[\u001b[49m\u001b[43mname\u001b[49m\u001b[43m]\u001b[49m\u001b[43m(\u001b[49m\u001b[38;5;241;43m*\u001b[39;49m\u001b[43margs\u001b[49m\u001b[43m)\u001b[49m\n\u001b[0;32m    249\u001b[0m \u001b[38;5;28;01mif\u001b[39;00m \u001b[38;5;28mgetattr\u001b[39m(\u001b[38;5;28mself\u001b[39m, \u001b[38;5;124m\"\u001b[39m\u001b[38;5;124mverbose\u001b[39m\u001b[38;5;124m\"\u001b[39m, \u001b[38;5;28;01mFalse\u001b[39;00m):\n\u001b[0;32m    250\u001b[0m     \u001b[38;5;28mprint\u001b[39m(\u001b[38;5;124m\"\u001b[39m\u001b[38;5;124mDone computing similarity matrix.\u001b[39m\u001b[38;5;124m\"\u001b[39m)\n",
      "File \u001b[1;32mc:\\Users\\Gat\\Documents\\GitHub\\LatentLens\\venv\\lib\\site-packages\\surprise\\similarities.pyx:54\u001b[0m, in \u001b[0;36msurprise.similarities.cosine\u001b[1;34m()\u001b[0m\n",
      "\u001b[1;31mMemoryError\u001b[0m: Unable to allocate 2.98 GiB for an array with shape (20000, 20000) and data type float64"
     ]
    }
   ],
   "source": [
    "import numpy\n",
    "import surprise\n",
    "print(f\"Numpy version: {numpy.__version__}\")\n",
    "print(f\"Surprise version: {surprise.__version__}\")\n",
    "\n",
    "# --- Importaciones ---\n",
    "import pandas as pd\n",
    "# CAMBIO 1: Importamos SVD en lugar de KNNBasic\n",
    "from surprise import Reader, Dataset, SVD\n",
    "from surprise.model_selection import train_test_split\n",
    "from surprise import accuracy\n",
    "import os\n",
    "import mlflow\n",
    "import mlflow.sklearn\n",
    "\n",
    "print(\"Librerías listas, incluyendo MLflow y SVD.\")\n",
    "\n",
    "# --- Carga de Datos (Sin cambios, pero ahora entendemos los límites) ---\n",
    "try:\n",
    "    BASE_DIR = os.path.dirname(os.path.dirname(os.path.abspath(__file__)))\n",
    "except NameError:\n",
    "    BASE_DIR = os.path.abspath(os.path.join(os.getcwd(), '..'))\n",
    "\n",
    "DATA_DIR = os.path.join(BASE_DIR, 'data', 'ml-25m')\n",
    "RATINGS_PATH = os.path.join(DATA_DIR, 'ratings.csv')\n",
    "ratings_df = pd.read_csv(RATINGS_PATH)\n",
    "\n",
    "# Mantenemos nuestro muestreo. SVD lo manejará sin problemas.\n",
    "n_users = 40000\n",
    "n_movies = 20000\n",
    "user_ids = ratings_df['userId'].value_counts().nlargest(n_users).index\n",
    "movie_ids = ratings_df['movieId'].value_counts().nlargest(n_movies).index\n",
    "sampled_df = ratings_df[(ratings_df['userId'].isin(user_ids)) & (ratings_df['movieId'].isin(movie_ids))]\n",
    "\n",
    "reader = Reader(rating_scale=(0.5, 5.0))\n",
    "data = Dataset.load_from_df(sampled_df[['userId', 'movieId', 'rating']], reader)\n",
    "trainset, testset = train_test_split(data, test_size=0.2, random_state=42)\n",
    "\n",
    "# CAMBIO 2: Definimos un nuevo experimento para SVD para mantener todo ordenado.\n",
    "mlflow.set_experiment(\"LatentLens-SVD-Evaluation\")\n",
    "\n",
    "with mlflow.start_run() as run:\n",
    "    print(f\"MLflow Run ID: {run.info.run_id}\")\n",
    "    \n",
    "    # --- CAMBIO 3: Parámetros específicos para SVD ---\n",
    "    # En lugar de K, SVD tiene \"factores latentes\". Son las dimensiones del \"espacio de gustos\".\n",
    "    n_factors = 100\n",
    "    n_epochs = 20 # Cuántas veces el algoritmo mira los datos para aprender.\n",
    "    \n",
    "    # Registramos los nuevos hiperparámetros.\n",
    "    mlflow.log_param(\"model_type\", \"SVD\")\n",
    "    mlflow.log_param(\"n_factors\", n_factors)\n",
    "    mlflow.log_param(\"n_epochs\", n_epochs)\n",
    "    mlflow.log_param(\"user_sample_size\", n_users)\n",
    "    mlflow.log_param(\"movie_sample_size\", n_movies)\n",
    "    \n",
    "    # --- CAMBIO 4: Instanciamos y entrenamos el modelo SVD ---\n",
    "    # Es un reemplazo directo de KNNBasic.\n",
    "    model = SVD(n_factors=n_factors, n_epochs=n_epochs, random_state=42)\n",
    "    \n",
    "    print(\"Entrenando el modelo SVD... (Esto es computacionalmente intensivo, pero eficiente en memoria)\")\n",
    "    model.fit(trainset)\n",
    "    print(\"¡Modelo SVD entrenado!\")\n",
    "    \n",
    "    # --- Evaluación (sin cambios en el proceso) ---\n",
    "    predictions = model.test(testset)\n",
    "    rmse = accuracy.rmse(predictions)\n",
    "    \n",
    "    mlflow.log_metric(\"rmse\", rmse)\n",
    "\n",
    "    # --- CAMBIO 5: Registramos el modelo SVD ---\n",
    "    # Le damos un nombre diferente al artefacto para no confundirlo.\n",
    "    mlflow.sklearn.log_model(model, \"surprise_svd_model\")\n",
    "    print(\"Modelo SVD (artefacto) y métricas registradas en MLflow.\")\n",
    "\n",
    "print(\"\\n¡Ejecución de MLflow con SVD finalizada! Revisa la UI.\")"
   ]
  }
 ],
 "metadata": {
  "kernelspec": {
   "display_name": "venv (3.12.10)",
   "language": "python",
   "name": "python3"
  },
  "language_info": {
   "codemirror_mode": {
    "name": "ipython",
    "version": 3
   },
   "file_extension": ".py",
   "mimetype": "text/x-python",
   "name": "python",
   "nbconvert_exporter": "python",
   "pygments_lexer": "ipython3",
   "version": "3.10.0"
  }
 },
 "nbformat": 4,
 "nbformat_minor": 5
}
