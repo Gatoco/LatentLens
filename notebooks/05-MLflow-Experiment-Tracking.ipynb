{
 "cells": [
  {
   "cell_type": "code",
   "execution_count": null,
   "id": "d07003fd",
   "metadata": {},
   "outputs": [
    {
     "name": "stdout",
     "output_type": "stream",
     "text": [
      "Numpy version: 1.26.4\n",
      "Surprise version: 1.1.4\n",
      "Librerías listas, incluyendo MLflow, SVD y Pathlib.\n",
      "Raíz del proyecto detectada en: c:\\Users\\Gat\\Documents\\GitHub\\LatentLens\n",
      "MLflow configurado para guardar en la dirección universal: file:///c:/Users/Gat/Documents/GitHub/LatentLens/mlruns\n",
      "Iniciando nuevo run de MLflow: 'SVD_n_factors_150_epochs_20' (ID: 5e2fe0b315ae405d922b102417191110)\n",
      "Entrenando SVD con 150 factores...\n",
      "¡Modelo entrenado!\n"
     ]
    },
    {
     "name": "stderr",
     "output_type": "stream",
     "text": [
      "2025/08/09 14:53:06 WARNING mlflow.models.model: `artifact_path` is deprecated. Please use `name` instead.\n"
     ]
    },
    {
     "name": "stdout",
     "output_type": "stream",
     "text": [
      "RMSE: 0.7433\n"
     ]
    },
    {
     "name": "stderr",
     "output_type": "stream",
     "text": [
      "2025/08/09 14:53:42 WARNING mlflow.models.model: Model logged without a signature and input example. Please set `input_example` parameter when logging the model to auto infer the model signature.\n"
     ]
    },
    {
     "name": "stdout",
     "output_type": "stream",
     "text": [
      "Modelo SVD (artefacto) y métricas registradas en MLflow.\n",
      "\n",
      "¡Experimento 'SVD_n_factors_150_epochs_20' finalizado!\n"
     ]
    }
   ],
   "source": [
    "# --- Dependencias principales ---\n",
    "import numpy  # Operaciones numéricas\n",
    "import surprise  # Algoritmos de recomendación\n",
    "import pandas as pd  # Manipulación de datos\n",
    "from surprise import Reader, Dataset, SVD  # Componentes de Surprise\n",
    "from surprise.model_selection import train_test_split  # División de datos\n",
    "from surprise import accuracy  # Métricas\n",
    "import os  # Operaciones de sistema\n",
    "import mlflow  # Seguimiento de experimentos\n",
    "import mlflow.sklearn  # Registro de modelos sklearn\n",
    "from pathlib import Path  # Manejo robusto de rutas\n",
    "\n",
    "# --- Información de entorno ---\n",
    "print(f\"Numpy version: {numpy.__version__}\")\n",
    "print(f\"Surprise version: {surprise.__version__}\")\n",
    "print(\"Librerías listas, incluyendo MLflow, SVD y Pathlib.\")\n",
    "\n",
    "# --- Resolución de la raíz del proyecto ---\n",
    "# Permite ejecutar el notebook desde distintos contextos sin perder referencias\n",
    "try:\n",
    "    BASE_DIR = os.path.dirname(os.path.dirname(os.path.abspath(__file__)))\n",
    "except NameError:\n",
    "    if \"notebooks\" in os.getcwd():\n",
    "        BASE_DIR = os.path.abspath(os.path.join(os.getcwd(), '..'))\n",
    "    else:\n",
    "        BASE_DIR = os.getcwd()\n",
    "print(f\"Raíz del proyecto detectada en: {BASE_DIR}\")\n",
    "\n",
    "# --- Configuración universal de MLflow ---\n",
    "# Se traduce la ruta local a URI universal para compatibilidad multiplataforma\n",
    "mlruns_path = Path(BASE_DIR) / 'mlruns'\n",
    "tracking_uri = mlruns_path.as_uri()\n",
    "mlflow.set_tracking_uri(tracking_uri)\n",
    "print(f\"MLflow configurado para guardar en la dirección universal: {tracking_uri}\")\n",
    "mlflow.set_experiment(\"LatentLens-SVD-Evaluation\")\n",
    "\n",
    "# --- Carga y muestreo de datos MovieLens ---\n",
    "# Selecciona los usuarios y películas más activos para reducir la dispersión y el tamaño\n",
    "ratings_path = Path(BASE_DIR) / 'data' / 'ml-25m' / 'ratings.csv'\n",
    "ratings_df = pd.read_csv(ratings_path)\n",
    "\n",
    "n_users = 40000  # Número de usuarios a considerar\n",
    "n_movies = 20000  # Número de películas a considerar\n",
    "user_ids = ratings_df['userId'].value_counts().nlargest(n_users).index\n",
    "movie_ids = ratings_df['movieId'].value_counts().nlargest(n_movies).index\n",
    "sampled_df = ratings_df[(ratings_df['userId'].isin(user_ids)) & (ratings_df['movieId'].isin(movie_ids))]\n",
    "\n",
    "# --- Conversión a formato Surprise ---\n",
    "reader = Reader(rating_scale=(0.5, 5.0))\n",
    "data = Dataset.load_from_df(sampled_df[['userId', 'movieId', 'rating']], reader)\n",
    "trainset, testset = train_test_split(data, test_size=0.2, random_state=42)\n",
    "\n",
    "# --- Definición de experimento y entrenamiento SVD ---\n",
    "run_name = \"SVD_n_factors_150_epochs_20\"\n",
    "with mlflow.start_run(run_name=run_name) as run:\n",
    "    print(f\"Iniciando nuevo run de MLflow: '{run_name}' (ID: {run.info.run_id})\")\n",
    "    # Hiperparámetros principales\n",
    "    n_factors = 150  # Dimensiones latentes\n",
    "    n_epochs = 20    # Iteraciones de entrenamiento\n",
    "    mlflow.log_param(\"model_type\", \"SVD\")\n",
    "    mlflow.log_param(\"n_factors\", n_factors)\n",
    "    mlflow.log_param(\"n_epochs\", n_epochs)\n",
    "    # Instanciación y entrenamiento del modelo\n",
    "    model = SVD(n_factors=n_factors, n_epochs=n_epochs, random_state=42)\n",
    "    print(f\"Entrenando SVD con {n_factors} factores...\")\n",
    "    model.fit(trainset)\n",
    "    print(\"¡Modelo entrenado!\")\n",
    "    # Evaluación cuantitativa\n",
    "    predictions = model.test(testset)\n",
    "    rmse = accuracy.rmse(predictions)\n",
    "    mlflow.log_metric(\"rmse\", rmse)\n",
    "    # Registro del modelo entrenado como artefacto\n",
    "    mlflow.sklearn.log_model(model, \"surprise_svd_model\")\n",
    "    print(\"Modelo SVD (artefacto) y métricas registradas en MLflow.\")\n",
    "\n",
    "# --- Fin de ejecución ---\n",
    "print(f\"\\n¡Experimento '{run_name}' finalizado!\")\n"
   ]
  }
 ],
 "metadata": {
  "kernelspec": {
   "display_name": "venv (3.10.0)",
   "language": "python",
   "name": "python3"
  },
  "language_info": {
   "codemirror_mode": {
    "name": "ipython",
    "version": 3
   },
   "file_extension": ".py",
   "mimetype": "text/x-python",
   "name": "python",
   "nbconvert_exporter": "python",
   "pygments_lexer": "ipython3",
   "version": "3.10.0"
  }
 },
 "nbformat": 4,
 "nbformat_minor": 5
}
