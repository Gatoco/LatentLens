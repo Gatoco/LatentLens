{
 "cells": [
  {
   "cell_type": "code",
   "execution_count": 1,
   "id": "d07003fd",
   "metadata": {},
   "outputs": [
    {
     "ename": "ModuleNotFoundError",
     "evalue": "No module named 'surprise'",
     "output_type": "error",
     "traceback": [
      "\u001b[31m---------------------------------------------------------------------------\u001b[39m",
      "\u001b[31mModuleNotFoundError\u001b[39m                       Traceback (most recent call last)",
      "\u001b[36mCell\u001b[39m\u001b[36m \u001b[39m\u001b[32mIn[1]\u001b[39m\u001b[32m, line 3\u001b[39m\n\u001b[32m      1\u001b[39m \u001b[38;5;66;03m# --- Importaciones (Añadimos mlflow) ---\u001b[39;00m\n\u001b[32m      2\u001b[39m \u001b[38;5;28;01mimport\u001b[39;00m\u001b[38;5;250m \u001b[39m\u001b[34;01mpandas\u001b[39;00m\u001b[38;5;250m \u001b[39m\u001b[38;5;28;01mas\u001b[39;00m\u001b[38;5;250m \u001b[39m\u001b[34;01mpd\u001b[39;00m\n\u001b[32m----> \u001b[39m\u001b[32m3\u001b[39m \u001b[38;5;28;01mfrom\u001b[39;00m\u001b[38;5;250m \u001b[39m\u001b[34;01msurprise\u001b[39;00m\u001b[38;5;250m \u001b[39m\u001b[38;5;28;01mimport\u001b[39;00m Reader, Dataset, KNNBasic\n\u001b[32m      4\u001b[39m \u001b[38;5;28;01mfrom\u001b[39;00m\u001b[38;5;250m \u001b[39m\u001b[34;01msurprise\u001b[39;00m\u001b[34;01m.\u001b[39;00m\u001b[34;01mmodel_selection\u001b[39;00m\u001b[38;5;250m \u001b[39m\u001b[38;5;28;01mimport\u001b[39;00m train_test_split\n\u001b[32m      5\u001b[39m \u001b[38;5;28;01mfrom\u001b[39;00m\u001b[38;5;250m \u001b[39m\u001b[34;01msurprise\u001b[39;00m\u001b[38;5;250m \u001b[39m\u001b[38;5;28;01mimport\u001b[39;00m accuracy\n",
      "\u001b[31mModuleNotFoundError\u001b[39m: No module named 'surprise'"
     ]
    }
   ],
   "source": [
    "# --- Importaciones (Añadimos mlflow) ---\n",
    "import pandas as pd\n",
    "from surprise import Reader, Dataset, KNNBasic\n",
    "from surprise.model_selection import train_test_split\n",
    "from surprise import accuracy\n",
    "import os\n",
    "import mlflow\n",
    "import mlflow.sklearn # Importante para el logging del modelo\n",
    "\n",
    "print(\"Librerías listas, incluyendo MLflow.\")\n",
    "\n",
    "# --- Carga de Datos (Sin cambios) ---\n",
    "try:\n",
    "    BASE_DIR = os.path.dirname(os.path.dirname(os.path.abspath(__file__)))\n",
    "except NameError:\n",
    "    BASE_DIR = os.path.abspath(os.path.join(os.getcwd(), '..'))\n",
    "\n",
    "DATA_DIR = os.path.join(BASE_DIR, 'data', 'ml-25m')\n",
    "RATINGS_PATH = os.path.join(DATA_DIR, 'ratings.csv')\n",
    "ratings_df = pd.read_csv(RATINGS_PATH)\n",
    "\n",
    "n_users = 40000\n",
    "n_movies = 20000\n",
    "user_ids = ratings_df['userId'].value_counts().nlargest(n_users).index\n",
    "movie_ids = ratings_df['movieId'].value_counts().nlargest(n_movies).index\n",
    "sampled_df = ratings_df[(ratings_df['userId'].isin(user_ids)) & (ratings_df['movieId'].isin(movie_ids))]\n",
    "\n",
    "reader = Reader(rating_scale=(0.5, 5.0))\n",
    "data = Dataset.load_from_df(sampled_df[['userId', 'movieId', 'rating']], reader)\n",
    "trainset, testset = train_test_split(data, test_size=0.2, random_state=42)\n",
    "\n",
    "# MLflow: 1. Definir el nombre de nuestro \"cajón\" de experimentos.\n",
    "mlflow.set_experiment(\"LatentLens-KNN-Evaluation\")\n",
    "\n",
    "# MLflow: 2. Iniciar una \"ejecución\" (un run). Todo dentro de este bloque `with` será registrado.\n",
    "with mlflow.start_run() as run:\n",
    "    print(f\"MLflow Run ID: {run.info.run_id}\")\n",
    "    \n",
    "    # --- Parámetros del Experimento ---\n",
    "    k_neighbors = 40\n",
    "    similarity_metric = 'cosine'\n",
    "    \n",
    "    # MLflow: 3. Registrar los parámetros que definen este experimento.\n",
    "    mlflow.log_param(\"model_type\", \"KNNBasic\")\n",
    "    mlflow.log_param(\"k_neighbors\", k_neighbors)\n",
    "    mlflow.log_param(\"similarity_metric\", similarity_metric)\n",
    "    mlflow.log_param(\"user_sample_size\", n_users)\n",
    "    mlflow.log_param(\"movie_sample_size\", n_movies)\n",
    "    \n",
    "    # --- Entrenamiento ---\n",
    "    sim_options = {'name': similarity_metric, 'user_based': False}\n",
    "    model = KNNBasic(k=k_neighbors, sim_options=sim_options)\n",
    "    model.fit(trainset)\n",
    "    \n",
    "    # --- Evaluación ---\n",
    "    predictions = model.test(testset)\n",
    "    rmse = accuracy.rmse(predictions)\n",
    "    \n",
    "    # MLflow: 4. Registrar la métrica de resultado.\n",
    "    mlflow.log_metric(\"rmse\", rmse)\n",
    "\n",
    "    # MLflow: 5. Registrar el modelo como un \"artefacto\".\n",
    "    mlflow.sklearn.log_model(model, \"surprise_knn_model\")\n",
    "\n",
    "print(\"\\n¡Ejecución de MLflow finalizada! Revisa la UI en http://127.0.0.1:5000\")"
   ]
  }
 ],
 "metadata": {
  "kernelspec": {
   "display_name": "venv (3.12.10)",
   "language": "python",
   "name": "python3"
  },
  "language_info": {
   "codemirror_mode": {
    "name": "ipython",
    "version": 3
   },
   "file_extension": ".py",
   "mimetype": "text/x-python",
   "name": "python",
   "nbconvert_exporter": "python",
   "pygments_lexer": "ipython3",
   "version": "3.12.10"
  }
 },
 "nbformat": 4,
 "nbformat_minor": 5
}
